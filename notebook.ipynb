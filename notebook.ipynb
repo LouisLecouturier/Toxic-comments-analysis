{
 "cells": [
  {
   "cell_type": "markdown",
   "metadata": {},
   "source": [
    "# Toxic comment analysis\n",
    "\n",
    "---\n"
   ]
  },
  {
   "cell_type": "markdown",
   "metadata": {},
   "source": [
    "## Load libraries\n"
   ]
  },
  {
   "cell_type": "code",
   "execution_count": 1,
   "metadata": {},
   "outputs": [
    {
     "name": "stderr",
     "output_type": "stream",
     "text": [
      "[nltk_data] Downloading package punkt to\n",
      "[nltk_data]     C:\\Users\\mathi\\AppData\\Roaming\\nltk_data...\n",
      "[nltk_data]   Package punkt is already up-to-date!\n"
     ]
    }
   ],
   "source": [
    "import pandas as pd\n",
    "import numpy as np\n",
    "import nltk\n",
    "nltk.download('punkt')\n",
    "import helpers.data.text_manipulation as tm"
   ]
  },
  {
   "cell_type": "markdown",
   "metadata": {},
   "source": [
    "## Work Dataset\n"
   ]
  },
  {
   "cell_type": "code",
   "execution_count": 2,
   "metadata": {},
   "outputs": [
    {
     "data": {
      "text/html": [
       "<div>\n",
       "<style scoped>\n",
       "    .dataframe tbody tr th:only-of-type {\n",
       "        vertical-align: middle;\n",
       "    }\n",
       "\n",
       "    .dataframe tbody tr th {\n",
       "        vertical-align: top;\n",
       "    }\n",
       "\n",
       "    .dataframe thead th {\n",
       "        text-align: right;\n",
       "    }\n",
       "</style>\n",
       "<table border=\"1\" class=\"dataframe\">\n",
       "  <thead>\n",
       "    <tr style=\"text-align: right;\">\n",
       "      <th></th>\n",
       "      <th>id</th>\n",
       "      <th>comment_text</th>\n",
       "      <th>toxic</th>\n",
       "      <th>severe_toxic</th>\n",
       "      <th>obscene</th>\n",
       "      <th>threat</th>\n",
       "      <th>insult</th>\n",
       "      <th>identity_hate</th>\n",
       "    </tr>\n",
       "  </thead>\n",
       "  <tbody>\n",
       "    <tr>\n",
       "      <th>0</th>\n",
       "      <td>0000997932d777bf</td>\n",
       "      <td>Explanation\\r\\nWhy the edits made under my use...</td>\n",
       "      <td>0</td>\n",
       "      <td>0</td>\n",
       "      <td>0</td>\n",
       "      <td>0</td>\n",
       "      <td>0</td>\n",
       "      <td>0</td>\n",
       "    </tr>\n",
       "    <tr>\n",
       "      <th>1</th>\n",
       "      <td>000103f0d9cfb60f</td>\n",
       "      <td>D'aww! He matches this background colour I'm s...</td>\n",
       "      <td>0</td>\n",
       "      <td>0</td>\n",
       "      <td>0</td>\n",
       "      <td>0</td>\n",
       "      <td>0</td>\n",
       "      <td>0</td>\n",
       "    </tr>\n",
       "    <tr>\n",
       "      <th>2</th>\n",
       "      <td>000113f07ec002fd</td>\n",
       "      <td>Hey man, I'm really not trying to edit war. It...</td>\n",
       "      <td>0</td>\n",
       "      <td>0</td>\n",
       "      <td>0</td>\n",
       "      <td>0</td>\n",
       "      <td>0</td>\n",
       "      <td>0</td>\n",
       "    </tr>\n",
       "    <tr>\n",
       "      <th>3</th>\n",
       "      <td>0001b41b1c6bb37e</td>\n",
       "      <td>\"\\r\\nMore\\r\\nI can't make any real suggestions...</td>\n",
       "      <td>0</td>\n",
       "      <td>0</td>\n",
       "      <td>0</td>\n",
       "      <td>0</td>\n",
       "      <td>0</td>\n",
       "      <td>0</td>\n",
       "    </tr>\n",
       "    <tr>\n",
       "      <th>4</th>\n",
       "      <td>0001d958c54c6e35</td>\n",
       "      <td>You, sir, are my hero. Any chance you remember...</td>\n",
       "      <td>0</td>\n",
       "      <td>0</td>\n",
       "      <td>0</td>\n",
       "      <td>0</td>\n",
       "      <td>0</td>\n",
       "      <td>0</td>\n",
       "    </tr>\n",
       "  </tbody>\n",
       "</table>\n",
       "</div>"
      ],
      "text/plain": [
       "                 id                                       comment_text  toxic  \\\n",
       "0  0000997932d777bf  Explanation\\r\\nWhy the edits made under my use...      0   \n",
       "1  000103f0d9cfb60f  D'aww! He matches this background colour I'm s...      0   \n",
       "2  000113f07ec002fd  Hey man, I'm really not trying to edit war. It...      0   \n",
       "3  0001b41b1c6bb37e  \"\\r\\nMore\\r\\nI can't make any real suggestions...      0   \n",
       "4  0001d958c54c6e35  You, sir, are my hero. Any chance you remember...      0   \n",
       "\n",
       "   severe_toxic  obscene  threat  insult  identity_hate  \n",
       "0             0        0       0       0              0  \n",
       "1             0        0       0       0              0  \n",
       "2             0        0       0       0              0  \n",
       "3             0        0       0       0              0  \n",
       "4             0        0       0       0              0  "
      ]
     },
     "execution_count": 2,
     "metadata": {},
     "output_type": "execute_result"
    }
   ],
   "source": [
    "data = pd.read_csv(\"datasets/train.csv\")\n",
    "data.head()"
   ]
  },
  {
   "cell_type": "markdown",
   "metadata": {},
   "source": [
    "### Previsualize the data"
   ]
  },
  {
   "cell_type": "code",
   "execution_count": 3,
   "metadata": {},
   "outputs": [
    {
     "name": "stdout",
     "output_type": "stream",
     "text": [
      "Length of dataset: 159571\n",
      "%\\ of toxic commentaries: 9.584448302009765 %\n",
      "\n",
      "Name\t\tOccurrence\n",
      "\n",
      "severe_toxic\t1595\n",
      "obscene\t\t8449\n",
      "threat\t\t478\n",
      "insult\t\t7877\n",
      "identity_hate\t1405\n"
     ]
    }
   ],
   "source": [
    "print(\"Length of dataset:\", len(data))\n",
    "print(\"%\\\\ of toxic commentaries:\", data.toxic.value_counts()[1] / len(data) * 100, '%\\n')\n",
    "\n",
    "print(\"Name\\t\\tOccurrence\\n\")\n",
    "print(\"severe_toxic\\t{}\".format(data.severe_toxic.value_counts()[1]))\n",
    "print(\"obscene\\t\\t{}\".format(data.obscene.value_counts()[1]))\n",
    "print(\"threat\\t\\t{}\".format(data.threat.value_counts()[1]))\n",
    "print(\"insult\\t\\t{}\".format(data.insult.value_counts()[1]))\n",
    "print(\"identity_hate\\t{}\".format(data.identity_hate.value_counts()[1]))"
   ]
  },
  {
   "cell_type": "markdown",
   "metadata": {},
   "source": [
    "### Clean the data\n"
   ]
  },
  {
   "cell_type": "code",
   "execution_count": 4,
   "metadata": {},
   "outputs": [],
   "source": [
    "import string\n",
    "import contractions\n",
    "from nltk.tokenize import word_tokenize\n",
    "from nltk.corpus import stopwords\n",
    "\n",
    "text_abbreviations = {\n",
    "    \"$\": \" dollar \",\n",
    "    \"€\": \" euro \",\n",
    "    \"4ao\": \"for adults only\",\n",
    "    \"a.m\": \"before midday\",\n",
    "    \"a3\": \"anytime anywhere anyplace\",\n",
    "    \"aamof\": \"as a matter of fact\",\n",
    "    \"acct\": \"account\",\n",
    "    \"adih\": \"another day in hell\",\n",
    "    \"afaic\": \"as far as i am concerned\",\n",
    "    \"afaict\": \"as far as i can tell\",\n",
    "    \"afaik\": \"as far as i know\",\n",
    "    \"afair\": \"as far as i remember\",\n",
    "    \"afk\": \"away from keyboard\",\n",
    "    \"app\": \"application\",\n",
    "    \"approx\": \"approximately\",\n",
    "    \"apps\": \"applications\",\n",
    "    \"asap\": \"as soon as possible\",\n",
    "    \"asl\": \"age, sex, location\",\n",
    "    \"atk\": \"at the keyboard\",\n",
    "    \"ave.\": \"avenue\",\n",
    "    \"aymm\": \"are you my mother\",\n",
    "    \"ayor\": \"at your own risk\",\n",
    "    \"b&b\": \"bed and breakfast\",\n",
    "    \"b+b\": \"bed and breakfast\",\n",
    "    \"b.c\": \"before christ\",\n",
    "    \"b2b\": \"business to business\",\n",
    "    \"b2c\": \"business to customer\",\n",
    "    \"b4\": \"before\",\n",
    "    \"b4n\": \"bye for now\",\n",
    "    \"b@u\": \"back at you\",\n",
    "    \"bae\": \"before anyone else\",\n",
    "    \"bak\": \"back at keyboard\",\n",
    "    \"bbbg\": \"bye bye be good\",\n",
    "    \"bbc\": \"british broadcasting corporation\",\n",
    "    \"bbias\": \"be back in a second\",\n",
    "    \"bbl\": \"be back later\",\n",
    "    \"bbs\": \"be back soon\",\n",
    "    \"be4\": \"before\",\n",
    "    \"bfn\": \"bye for now\",\n",
    "    \"blvd\": \"boulevard\",\n",
    "    \"bout\": \"about\",\n",
    "    \"brb\": \"be right back\",\n",
    "    \"bros\": \"brothers\",\n",
    "    \"brt\": \"be right there\",\n",
    "    \"bsaaw\": \"big smile and a wink\",\n",
    "    \"btw\": \"by the way\",\n",
    "    \"bwl\": \"bursting with laughter\",\n",
    "    \"c/o\": \"care of\",\n",
    "    \"cet\": \"central european time\",\n",
    "    \"cf\": \"compare\",\n",
    "    \"cia\": \"central intelligence agency\",\n",
    "    \"csl\": \"can not stop laughing\",\n",
    "    \"cu\": \"see you\",\n",
    "    \"cul8r\": \"see you later\",\n",
    "    \"cv\": \"curriculum vitae\",\n",
    "    \"cwot\": \"complete waste of time\",\n",
    "    \"cya\": \"see you\",\n",
    "    \"cyt\": \"see you tomorrow\",\n",
    "    \"dae\": \"does anyone else\",\n",
    "    \"dbmib\": \"do not bother me i am busy\",\n",
    "    \"diy\": \"do it yourself\",\n",
    "    \"dm\": \"direct message\",\n",
    "    \"dwh\": \"during work hours\",\n",
    "    \"e123\": \"easy as one two three\",\n",
    "    \"eet\": \"eastern european time\",\n",
    "    \"eg\": \"example\",\n",
    "    \"embm\": \"early morning business meeting\",\n",
    "    \"encl\": \"enclosed\",\n",
    "    \"encl.\": \"enclosed\",\n",
    "    \"etc\": \"and so on\",\n",
    "    \"faq\": \"frequently asked questions\",\n",
    "    \"fawc\": \"for anyone who cares\",\n",
    "    \"fb\": \"facebook\",\n",
    "    \"fc\": \"fingers crossed\",\n",
    "    \"fig\": \"figure\",\n",
    "    \"fimh\": \"forever in my heart\",\n",
    "    \"ft.\": \"feet\",\n",
    "    \"ft\": \"featuring\",\n",
    "    \"ftl\": \"for the loss\",\n",
    "    \"ftw\": \"for the win\",\n",
    "    \"fwiw\": \"for what it is worth\",\n",
    "    \"fyi\": \"for your information\",\n",
    "    \"g9\": \"genius\",\n",
    "    \"gahoy\": \"get a hold of yourself\",\n",
    "    \"gal\": \"get a life\",\n",
    "    \"gcse\": \"general certificate of secondary education\",\n",
    "    \"gfn\": \"gone for now\",\n",
    "    \"gg\": \"good game\",\n",
    "    \"gl\": \"good luck\",\n",
    "    \"glhf\": \"good luck have fun\",\n",
    "    \"gmt\": \"greenwich mean time\",\n",
    "    \"gmta\": \"great minds think alike\",\n",
    "    \"gn\": \"good night\",\n",
    "    \"g.o.a.t\": \"greatest of all time\",\n",
    "    \"goat\": \"greatest of all time\",\n",
    "    \"goi\": \"get over it\",\n",
    "    \"gps\": \"global positioning system\",\n",
    "    \"gr8\": \"great\",\n",
    "    \"gratz\": \"congratulations\",\n",
    "    \"gyal\": \"girl\",\n",
    "    \"h&c\": \"hot and cold\",\n",
    "    \"hp\": \"horsepower\",\n",
    "    \"hr\": \"hour\",\n",
    "    \"hrh\": \"his royal highness\",\n",
    "    \"ht\": \"height\",\n",
    "    \"ibrb\": \"i will be right back\",\n",
    "    \"ic\": \"i see\",\n",
    "    \"icq\": \"i seek you\",\n",
    "    \"icymi\": \"in case you missed it\",\n",
    "    \"idc\": \"i do not care\",\n",
    "    \"idgadf\": \"i do not give a damn fuck\",\n",
    "    \"idgaf\": \"i do not give a fuck\",\n",
    "    \"idk\": \"i do not know\",\n",
    "    \"ie\": \"that is\",\n",
    "    \"i.e\": \"that is\",\n",
    "    \"ifyp\": \"i feel your pain\",\n",
    "    \"IG\": \"instagram\",\n",
    "    \"iirc\": \"if i remember correctly\",\n",
    "    \"ilu\": \"i love you\",\n",
    "    \"ily\": \"i love you\",\n",
    "    \"imho\": \"in my humble opinion\",\n",
    "    \"imo\": \"in my opinion\",\n",
    "    \"imu\": \"i miss you\",\n",
    "    \"iow\": \"in other words\",\n",
    "    \"irl\": \"in real life\",\n",
    "    \"j4f\": \"just for fun\",\n",
    "    \"jic\": \"just in case\",\n",
    "    \"jk\": \"just kidding\",\n",
    "    \"jsyk\": \"just so you know\",\n",
    "    \"l8r\": \"later\",\n",
    "    \"lb\": \"pound\",\n",
    "    \"lbs\": \"pounds\",\n",
    "    \"ldr\": \"long distance relationship\",\n",
    "    \"lmao\": \"laugh my ass off\",\n",
    "    \"lmfao\": \"laugh my fucking ass off\",\n",
    "    \"lol\": \"laughing out loud\",\n",
    "    \"ltd\": \"limited\",\n",
    "    \"ltns\": \"long time no see\",\n",
    "    \"m8\": \"mate\",\n",
    "    \"mf\": \"motherfucker\",\n",
    "    \"mfs\": \"motherfuckers\",\n",
    "    \"mfw\": \"my face when\",\n",
    "    \"mofo\": \"motherfucker\",\n",
    "    \"mph\": \"miles per hour\",\n",
    "    \"mr\": \"mister\",\n",
    "    \"mrw\": \"my reaction when\",\n",
    "    \"ms\": \"miss\",\n",
    "    \"mte\": \"my thoughts exactly\",\n",
    "    \"nagi\": \"not a good idea\",\n",
    "    \"nbc\": \"national broadcasting company\",\n",
    "    \"nbd\": \"not big deal\",\n",
    "    \"nfs\": \"not for sale\",\n",
    "    \"ngl\": \"not going to lie\",\n",
    "    \"nhs\": \"national health service\",\n",
    "    \"nrn\": \"no reply necessary\",\n",
    "    \"nsfl\": \"not safe for life\",\n",
    "    \"nsfw\": \"not safe for work\",\n",
    "    \"nth\": \"nice to have\",\n",
    "    \"nvr\": \"never\",\n",
    "    \"nyc\": \"new york city\",\n",
    "    \"oc\": \"original content\",\n",
    "    \"og\": \"original\",\n",
    "    \"ohp\": \"overhead projector\",\n",
    "    \"oic\": \"oh i see\",\n",
    "    \"omdb\": \"over my dead body\",\n",
    "    \"omg\": \"oh my god\",\n",
    "    \"omw\": \"on my way\",\n",
    "    \"p.a\": \"per annum\",\n",
    "    \"p.m\": \"after midday\",\n",
    "    \"pm\": \"prime minister\",\n",
    "    \"poc\": \"people of color\",\n",
    "    \"pov\": \"point of view\",\n",
    "    \"pp\": \"pages\",\n",
    "    \"ppl\": \"people\",\n",
    "    \"prw\": \"parents are watching\",\n",
    "    \"ps\": \"postscript\",\n",
    "    \"pt\": \"point\",\n",
    "    \"ptb\": \"please text back\",\n",
    "    \"pto\": \"please turn over\",\n",
    "    \"qpsa\": \"what happens\",\n",
    "    \"ratchet\": \"rude\",\n",
    "    \"rbtl\": \"read between the lines\",\n",
    "    \"rlrt\": \"real life retweet\",\n",
    "    \"rofl\": \"rolling on the floor laughing\",\n",
    "    \"roflol\": \"rolling on the floor laughing out loud\",\n",
    "    \"rotflmao\": \"rolling on the floor laughing my ass off\",\n",
    "    \"rt\": \"retweet\",\n",
    "    \"ruok\": \"are you ok\",\n",
    "    \"sfw\": \"safe for work\",\n",
    "    \"sk8\": \"skate\",\n",
    "    \"smh\": \"shake my head\",\n",
    "    \"sq\": \"square\",\n",
    "    \"srsly\": \"seriously\",\n",
    "    \"ssdd\": \"same stuff different day\",\n",
    "    \"tbh\": \"to be honest\",\n",
    "    \"tbs\": \"tablespooful\",\n",
    "    \"tbsp\": \"tablespooful\",\n",
    "    \"tfw\": \"that feeling when\",\n",
    "    \"thks\": \"thank you\",\n",
    "    \"tho\": \"though\",\n",
    "    \"thx\": \"thank you\",\n",
    "    \"tia\": \"thanks in advance\",\n",
    "    \"til\": \"today i learned\",\n",
    "    \"tl;dr\": \"too long i did not read\",\n",
    "    \"tldr\": \"too long i did not read\",\n",
    "    \"tmb\": \"tweet me back\",\n",
    "    \"tntl\": \"trying not to laugh\",\n",
    "    \"ttyl\": \"talk to you later\",\n",
    "    \"u\": \"you\",\n",
    "    \"u2\": \"you too\",\n",
    "    \"u4e\": \"yours for ever\",\n",
    "    \"utc\": \"coordinated universal time\",\n",
    "    \"w/\": \"with\",\n",
    "    \"w/o\": \"without\",\n",
    "    \"w8\": \"wait\",\n",
    "    \"wassup\": \"what is up\",\n",
    "    \"wb\": \"welcome back\",\n",
    "    \"wd\": \"would\",\n",
    "    \"wtf\": \"what the fuck\",\n",
    "    \"wtg\": \"way to go\",\n",
    "    \"wtpa\": \"where the party at\",\n",
    "    \"wuf\": \"where are you from\",\n",
    "    \"wuzup\": \"what is up\",\n",
    "    \"wywh\": \"wish you were here\",\n",
    "    \"yd\": \"yard\",\n",
    "    \"ygtr\": \"you got that right\",\n",
    "    \"ynk\": \"you never know\",\n",
    "    \"zzz\": \"sleeping bored and tired\",\n",
    "}\n",
    "\n",
    "def manipulate(text: str):\n",
    "    # Replace contractions from the text for their equivalent\n",
    "    text =  contractions.fix(text)\n",
    "\n",
    "    # Remove punctuation\n",
    "    text =  \"\".join(c for c in text if c not in string.punctuation)\n",
    "\n",
    "    # Replace abbreviations from the text for their equivalent\n",
    "    words = text.split()\n",
    "    t = [\n",
    "        (\n",
    "            text_abbreviations[w.lower()]\n",
    "            if w.lower() in text_abbreviations.keys()\n",
    "            else w\n",
    "        )\n",
    "        for w in words\n",
    "    ]\n",
    "    text =  \" \".join(t)\n",
    "\n",
    "    # Remove numerals\n",
    "    text = ''.join((x for x in text if not x.isdigit()))\n",
    "\n",
    "    # Replace uppercase letters for their lowercase equivalent\n",
    "    text = text.lower()\n",
    "\n",
    "    # Remove english stopwords\n",
    "    stop_words = set(stopwords.words(\"english\"))\n",
    "    text = word_tokenize(text)\n",
    "    filtered_words = [word for word in text if word not in stop_words]\n",
    "    text = ' '.join(filtered_words)\n",
    "\n",
    "    return text\n",
    "\n",
    "def tokenize(texts: list[str]):\n",
    "    for i in range(len(texts)):\n",
    "        texts[i] = word_tokenize(texts[i])\n",
    "    return texts"
   ]
  },
  {
   "cell_type": "code",
   "execution_count": 5,
   "metadata": {},
   "outputs": [
    {
     "name": "stdout",
     "output_type": "stream",
     "text": [
      "Number of missing values in each column :\n",
      "id               0\n",
      "comment_text     0\n",
      "toxic            0\n",
      "severe_toxic     0\n",
      "obscene          0\n",
      "threat           0\n",
      "insult           0\n",
      "identity_hate    0\n",
      "dtype: int64 \n",
      "\n",
      "0s or 1s in dataset except comments:\n",
      "\n",
      "toxic            True\n",
      "severe_toxic     True\n",
      "obscene          True\n",
      "threat           True\n",
      "insult           True\n",
      "identity_hate    True\n",
      "dtype: bool\n"
     ]
    }
   ],
   "source": [
    "print(\"Number of missing values in each column :\")\n",
    "print(data.isnull().sum(), '\\n')\n",
    "data.drop('id', axis = 1, inplace=True)\n",
    "print(\"0s or 1s in dataset except comments:\\n\\n{}\".format(data.loc[:, data.columns != \"comment_text\"].apply({0, 1}.issuperset)))"
   ]
  },
  {
   "cell_type": "code",
   "execution_count": 6,
   "metadata": {},
   "outputs": [
    {
     "name": "stdout",
     "output_type": "stream",
     "text": [
      "(20000,) (20000, 6)\n"
     ]
    }
   ],
   "source": [
    "# Using all the data exceeds the RAM capacity of the Notebook\n",
    "corpus_size = int(20000)\n",
    "\n",
    "X = data[\"comment_text\"]\n",
    "y = data. loc[:, data. columns != \"comment_text\"]\n",
    "\n",
    "# Tweets are chosen at the beginning and end of the dataset to have equal parts positive and negative sentiment\n",
    "X = X[:corpus_size].to_numpy()\n",
    "# As well as for the associated targets\n",
    "y = y[:corpus_size].to_numpy()\n",
    "print(X.shape, y.shape)"
   ]
  },
  {
   "cell_type": "code",
   "execution_count": 7,
   "metadata": {},
   "outputs": [],
   "source": [
    "#tm = tm.TextManipulation()\n",
    "\n",
    "comments = X\n",
    "cleaned_comments = []\n",
    "for comment in comments:\n",
    "    # This method removes contractions, abbreviations, punctuation, numerals, uppercase and stopwords\n",
    "    comment = manipulate(comment)\n",
    "    cleaned_comments.append(comment)"
   ]
  },
  {
   "cell_type": "code",
   "execution_count": 8,
   "metadata": {},
   "outputs": [],
   "source": [
    "X = cleaned_comments"
   ]
  },
  {
   "cell_type": "markdown",
   "metadata": {},
   "source": [
    "### Tokenization"
   ]
  },
  {
   "cell_type": "code",
   "execution_count": 9,
   "metadata": {},
   "outputs": [],
   "source": [
    "X = tokenize(X)"
   ]
  },
  {
   "cell_type": "markdown",
   "metadata": {},
   "source": [
    "# Create model"
   ]
  },
  {
   "cell_type": "code",
   "execution_count": 10,
   "metadata": {},
   "outputs": [
    {
     "name": "stdout",
     "output_type": "stream",
     "text": [
      "WARNING:tensorflow:From c:\\Users\\mathi\\anaconda3\\Lib\\site-packages\\keras\\src\\losses.py:2976: The name tf.losses.sparse_softmax_cross_entropy is deprecated. Please use tf.compat.v1.losses.sparse_softmax_cross_entropy instead.\n",
      "\n"
     ]
    }
   ],
   "source": [
    "import tensorflow as tf\n",
    "from tensorflow.keras.optimizers.legacy import Adam\n",
    "from tensorflow.keras.preprocessing.text import Tokenizer\n",
    "from tensorflow.keras.preprocessing.sequence import pad_sequences\n",
    "from sklearn.model_selection import train_test_split"
   ]
  },
  {
   "cell_type": "code",
   "execution_count": 11,
   "metadata": {},
   "outputs": [],
   "source": [
    "embedding_dim = 100    # Dimensions used for glove6b100\n",
    "max_length = 1001        # Maximum size of a tweet\n",
    "trunc_type='post'      # Truncates the tweet if it is longer than max_length\n",
    "padding_type='post'    # Adds padding to the end of the tweet if it is shorter than max_length\n",
    "oov_tok = \"<OOV>\"      # Token \"<OOV>\" replaces words that are not part of the vocabulary (Out Of Vocabulary)\n",
    "training_size= corpus_size\n",
    "test_portion=.025"
   ]
  },
  {
   "cell_type": "code",
   "execution_count": 12,
   "metadata": {},
   "outputs": [],
   "source": [
    "tokenizer = Tokenizer()\n",
    "tokenizer.fit_on_texts(X)\n",
    "word_index = tokenizer.word_index\n",
    "vocab_size = len(word_index) + 1"
   ]
  },
  {
   "cell_type": "code",
   "execution_count": 13,
   "metadata": {},
   "outputs": [],
   "source": [
    "X = tokenizer.texts_to_sequences(X)\n",
    "padded = pad_sequences(X, maxlen=max_length, padding = padding_type, truncating = trunc_type)"
   ]
  },
  {
   "cell_type": "code",
   "execution_count": 14,
   "metadata": {},
   "outputs": [],
   "source": [
    "X_train, X_test, y_train, y_test = train_test_split(padded, y, test_size=0.025, random_state=42)"
   ]
  },
  {
   "cell_type": "code",
   "execution_count": 22,
   "metadata": {},
   "outputs": [],
   "source": [
    "\n",
    "model = tf.keras.Sequential()\n",
    "model.add(tf.keras.layers.Embedding(vocab_size+1,\n",
    "                                    embedding_dim,\n",
    "                                    input_length=max_length))\n",
    "model.add(tf.keras.layers.SimpleRNN(64))\n",
    "model.add(tf.keras.layers.Dense(6, activation='sigmoid'))"
   ]
  },
  {
   "cell_type": "code",
   "execution_count": 23,
   "metadata": {},
   "outputs": [],
   "source": [
    "model.compile(loss = 'binary_crossentropy', optimizer = 'adam', metrics = ['accuracy'])"
   ]
  },
  {
   "cell_type": "code",
   "execution_count": 24,
   "metadata": {},
   "outputs": [
    {
     "name": "stdout",
     "output_type": "stream",
     "text": [
      "Model: \"sequential_1\"\n",
      "_________________________________________________________________\n",
      " Layer (type)                Output Shape              Param #   \n",
      "=================================================================\n",
      " embedding_1 (Embedding)     (None, 1001, 100)         5999400   \n",
      "                                                                 \n",
      " simple_rnn_1 (SimpleRNN)    (None, 64)                10560     \n",
      "                                                                 \n",
      " dense_1 (Dense)             (None, 6)                 390       \n",
      "                                                                 \n",
      "=================================================================\n",
      "Total params: 6010350 (22.93 MB)\n",
      "Trainable params: 6010350 (22.93 MB)\n",
      "Non-trainable params: 0 (0.00 Byte)\n",
      "_________________________________________________________________\n"
     ]
    }
   ],
   "source": [
    "model.summary()"
   ]
  },
  {
   "cell_type": "code",
   "execution_count": 25,
   "metadata": {},
   "outputs": [
    {
     "name": "stdout",
     "output_type": "stream",
     "text": [
      "<class 'numpy.ndarray'>\n",
      "<class 'numpy.ndarray'>\n"
     ]
    }
   ],
   "source": [
    "num_epochs = 3\n",
    "batch_size = 256\n",
    "\n",
    "training_padded = X_train\n",
    "training_labels = np.array(y_train)\n",
    "testing_padded = X_test\n",
    "testing_labels = y_test\n",
    "\n",
    "print(type(training_padded))\n",
    "print(type(training_labels))"
   ]
  },
  {
   "cell_type": "code",
   "execution_count": 21,
   "metadata": {},
   "outputs": [
    {
     "name": "stdout",
     "output_type": "stream",
     "text": [
      "(19500, 6)\n",
      "(19500, 1001)\n",
      "(500, 1001)\n",
      "(500, 6)\n"
     ]
    }
   ],
   "source": [
    "print(training_labels.shape)\n",
    "print(training_padded.shape)\n",
    "print(testing_padded.shape)\n",
    "print(testing_labels.shape)"
   ]
  },
  {
   "cell_type": "code",
   "execution_count": 26,
   "metadata": {},
   "outputs": [
    {
     "name": "stdout",
     "output_type": "stream",
     "text": [
      "Epoch 1/3\n",
      "WARNING:tensorflow:From c:\\Users\\mathi\\anaconda3\\Lib\\site-packages\\keras\\src\\utils\\tf_utils.py:492: The name tf.ragged.RaggedTensorValue is deprecated. Please use tf.compat.v1.ragged.RaggedTensorValue instead.\n",
      "\n",
      "WARNING:tensorflow:From c:\\Users\\mathi\\anaconda3\\Lib\\site-packages\\keras\\src\\engine\\base_layer_utils.py:384: The name tf.executing_eagerly_outside_functions is deprecated. Please use tf.compat.v1.executing_eagerly_outside_functions instead.\n",
      "\n",
      "77/77 [==============================] - 41s 508ms/step - loss: 0.2034 - accuracy: 0.6811 - val_loss: 0.1554 - val_accuracy: 0.9980\n",
      "Epoch 2/3\n",
      "77/77 [==============================] - 36s 467ms/step - loss: 0.1447 - accuracy: 0.9942 - val_loss: 0.1553 - val_accuracy: 0.9980\n",
      "Epoch 3/3\n",
      "77/77 [==============================] - 35s 460ms/step - loss: 0.1444 - accuracy: 0.9942 - val_loss: 0.1554 - val_accuracy: 0.9980\n",
      "Training Complete\n"
     ]
    }
   ],
   "source": [
    "history = model.fit(training_padded, training_labels, epochs = num_epochs, batch_size=batch_size, validation_data=(testing_padded, testing_labels))\n",
    "\n",
    "print(\"Training Complete\")"
   ]
  },
  {
   "cell_type": "code",
   "execution_count": null,
   "metadata": {},
   "outputs": [
    {
     "data": {
      "image/png": "[encoded data removed]",
      "text/plain": [
       "<Figure size 640x480 with 1 Axes>"
      ]
     },
     "metadata": {},
     "output_type": "display_data"
    },
    {
     "data": {
      "text/plain": [
       "<Figure size 640x480 with 0 Axes>"
      ]
     },
     "metadata": {},
     "output_type": "display_data"
    },
    {
     "data": {
      "image/png": "[encoded data removed]",
      "text/plain": [
       "<Figure size 640x480 with 1 Axes>"
      ]
     },
     "metadata": {},
     "output_type": "display_data"
    },
    {
     "data": {
      "text/plain": [
       "<Figure size 640x480 with 0 Axes>"
      ]
     },
     "metadata": {},
     "output_type": "display_data"
    }
   ],
   "source": [
    "import matplotlib.image  as mpimg\n",
    "import matplotlib.pyplot as plt\n",
    "\n",
    "\n",
    "#-----------------------------------------------------------\n",
    "# Retrieve a list of list results on training and test data\n",
    "# sets for each training epoch\n",
    "#-----------------------------------------------------------\n",
    "acc=history.history['accuracy']\n",
    "val_acc=history.history['val_accuracy']\n",
    "loss=history.history['loss']\n",
    "val_loss=history.history['val_loss']\n",
    "\n",
    "epochs=range(len(acc)) # Get number of epochs\n",
    "\n",
    "#------------------------------------------------\n",
    "# Plot training and validation accuracy per epoch\n",
    "#------------------------------------------------\n",
    "plt.plot(epochs, acc, 'r')\n",
    "plt.plot(epochs, val_acc, 'b')\n",
    "plt.title('Training and validation accuracy')\n",
    "plt.xlabel(\"Epochs\")\n",
    "plt.ylabel(\"Accuracy\")\n",
    "plt.legend([\"Accuracy\", \"Validation Accuracy\"])\n",
    "\n",
    "plt.figure()\n",
    "plt.show()\n",
    "\n",
    "#------------------------------------------------\n",
    "# Plot training and validation loss per epoch\n",
    "#------------------------------------------------\n",
    "plt.plot(epochs, loss, 'r')\n",
    "plt.plot(epochs, val_loss, 'b')\n",
    "plt.title('Training and validation loss')\n",
    "plt.xlabel(\"Epochs\")\n",
    "plt.ylabel(\"Loss\")\n",
    "plt.legend([\"Loss\", \"Validation Loss\"])\n",
    "\n",
    "plt.figure()\n",
    "plt.show()"
   ]
  },
  {
   "cell_type": "code",
   "execution_count": null,
   "metadata": {},
   "outputs": [],
   "source": [
    "embeddings_index = {};\n",
    "\n",
    "with open('datasets\\glove.6B.100d.txt') as f:\n",
    "    for line in f:\n",
    "        values = line.split()\n",
    "        word = values[0]\n",
    "        coefs = np.asarray(values[1:], dtype='float32')\n",
    "        embeddings_index[word] = coefs\n",
    "\n",
    "embeddings_matrix = np.zeros((vocab_size, embedding_dim))\n",
    "for word, i in word_index.items():\n",
    "    embedding_vector = embeddings_index.get(word)\n",
    "    if embedding_vector is not None:\n",
    "        embeddings_matrix[i] = embedding_vector"
   ]
  },
  {
   "cell_type": "code",
   "execution_count": null,
   "metadata": {},
   "outputs": [],
   "source": [
    "model = tf.keras.Sequential()\n",
    "model.add(tf.keras.layers.Embedding(input_dim = vocab_size,\n",
    "                                    output_dim = embedding_dim,\n",
    "                                    input_length = max_length,\n",
    "                                    weights = [embeddings_matrix],\n",
    "                                    trainable = False))\n",
    "model.add(tf.keras.layers.SimpleRNN(64))\n",
    "model.add(tf.keras.layers.Dense(6, activation = 'sigmoid'))"
   ]
  },
  {
   "cell_type": "code",
   "execution_count": null,
   "metadata": {},
   "outputs": [],
   "source": [
    "model.compile(loss = 'binary_crossentropy', optimizer = 'adam', metrics = ['accuracy'])"
   ]
  },
  {
   "cell_type": "code",
   "execution_count": null,
   "metadata": {},
   "outputs": [
    {
     "name": "stdout",
     "output_type": "stream",
     "text": [
      "Model: \"sequential_1\"\n",
      "_________________________________________________________________\n",
      " Layer (type)                Output Shape              Param #   \n",
      "=================================================================\n",
      " embedding_1 (Embedding)     (None, 1001, 100)         5999300   \n",
      "                                                                 \n",
      " simple_rnn_1 (SimpleRNN)    (None, 64)                10560     \n",
      "                                                                 \n",
      " dense_1 (Dense)             (None, 1)                 65        \n",
      "                                                                 \n",
      "=================================================================\n",
      "Total params: 6009925 (22.93 MB)\n",
      "Trainable params: 10625 (41.50 KB)\n",
      "Non-trainable params: 5999300 (22.89 MB)\n",
      "_________________________________________________________________\n"
     ]
    }
   ],
   "source": [
    "model.summary()"
   ]
  },
  {
   "cell_type": "code",
   "execution_count": null,
   "metadata": {},
   "outputs": [
    {
     "name": "stdout",
     "output_type": "stream",
     "text": [
      "Epoch 1/3\n",
      "77/77 [==============================] - 24s 292ms/step - loss: 0.4248 - accuracy: 0.8516 - val_loss: 0.3089 - val_accuracy: 0.9080\n",
      "Epoch 2/3\n",
      "77/77 [==============================] - 24s 317ms/step - loss: 0.3198 - accuracy: 0.9022 - val_loss: 0.3083 - val_accuracy: 0.9080\n",
      "Epoch 3/3\n",
      "77/77 [==============================] - 21s 273ms/step - loss: 0.3208 - accuracy: 0.9021 - val_loss: 0.3071 - val_accuracy: 0.9080\n",
      "Training Complete\n"
     ]
    }
   ],
   "source": [
    "history = model.fit(training_padded, training_labels, epochs = num_epochs, batch_size=batch_size, validation_data=(testing_padded, testing_labels))\n",
    "\n",
    "print(\"Training Complete\")"
   ]
  },
  {
   "cell_type": "code",
   "execution_count": null,
   "metadata": {},
   "outputs": [
    {
     "data": {
      "image/png": "[encoded data removed]",
      "text/plain": [
       "<Figure size 640x480 with 1 Axes>"
      ]
     },
     "metadata": {},
     "output_type": "display_data"
    },
    {
     "data": {
      "text/plain": [
       "<Figure size 640x480 with 0 Axes>"
      ]
     },
     "metadata": {},
     "output_type": "display_data"
    },
    {
     "data": {
      "image/png": "[encoded data removed]",
      "text/plain": [
       "<Figure size 640x480 with 1 Axes>"
      ]
     },
     "metadata": {},
     "output_type": "display_data"
    },
    {
     "data": {
      "text/plain": [
       "<Figure size 640x480 with 0 Axes>"
      ]
     },
     "metadata": {},
     "output_type": "display_data"
    }
   ],
   "source": [
    "import matplotlib.image  as mpimg\n",
    "import matplotlib.pyplot as plt\n",
    "\n",
    "\n",
    "#-----------------------------------------------------------\n",
    "# Retrieve a list of list results on training and test data\n",
    "# sets for each training epoch\n",
    "#-----------------------------------------------------------\n",
    "acc=history.history['accuracy']\n",
    "val_acc=history.history['val_accuracy']\n",
    "loss=history.history['loss']\n",
    "val_loss=history.history['val_loss']\n",
    "\n",
    "epochs=range(len(acc)) # Get number of epochs\n",
    "\n",
    "#------------------------------------------------\n",
    "# Plot training and validation accuracy per epoch\n",
    "#------------------------------------------------\n",
    "plt.plot(epochs, acc, 'r')\n",
    "plt.plot(epochs, val_acc, 'b')\n",
    "plt.title('Training and validation accuracy')\n",
    "plt.xlabel(\"Epochs\")\n",
    "plt.ylabel(\"Accuracy\")\n",
    "plt.legend([\"Accuracy\", \"Validation Accuracy\"])\n",
    "\n",
    "plt.figure()\n",
    "plt.show()\n",
    "\n",
    "#------------------------------------------------\n",
    "# Plot training and validation loss per epoch\n",
    "#------------------------------------------------\n",
    "plt.plot(epochs, loss, 'r')\n",
    "plt.plot(epochs, val_loss, 'b')\n",
    "plt.title('Training and validation loss')\n",
    "plt.xlabel(\"Epochs\")\n",
    "plt.ylabel(\"Loss\")\n",
    "plt.legend([\"Loss\", \"Validation Loss\"])\n",
    "\n",
    "plt.figure()\n",
    "plt.show()"
   ]
  }
 ],
 "metadata": {
  "kernelspec": {
   "display_name": "kinected",
   "language": "python",
   "name": "python3"
  },
  "language_info": {
   "codemirror_mode": {
    "name": "ipython",
    "version": 3
   },
   "file_extension": ".py",
   "mimetype": "text/x-python",
   "name": "python",
   "nbconvert_exporter": "python",
   "pygments_lexer": "ipython3",
   "version": "3.11.5"
  }
 },
 "nbformat": 4,
 "nbformat_minor": 2
}
